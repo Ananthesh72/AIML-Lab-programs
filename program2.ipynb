{
 "cells": [
  {
   "cell_type": "code",
   "execution_count": 27,
   "id": "ec6402bb-be43-4e60-9a01-3028bfdfad22",
   "metadata": {},
   "outputs": [],
   "source": [
    "class Graph:\n",
    "    def __init__(self,graph,HeuristicNodeList,startNode):\n",
    "        self.graph=graph\n",
    "        self.H=HeuristicNodeList\n",
    "        self.start=startNode\n",
    "        self.parent={}\n",
    "        self.solutiongraph={}\n",
    "        self.status={}"
   ]
  },
  {
   "cell_type": "code",
   "execution_count": 40,
   "id": "0e79c16f-d95e-4ce9-86e3-8a479df24f99",
   "metadata": {},
   "outputs": [],
   "source": [
    "def applyaostar(self):\n",
    "    self.AOstarAlgo(self.start,False)\n",
    "    \n",
    "def getneighbors(self,v):\n",
    "    return self.graph.get(v,'')\n",
    "\n",
    "def getstatus(self,v):\n",
    "    return self.status.get(v,0)\n",
    "\n",
    "def setstatus(self,v,val):\n",
    "    self.status[v]=val\n",
    "\n",
    "def getHeuristicNodeValue(self,n):\n",
    "    return self.H.get(n,0)\n",
    "\n",
    "def setHeuristicNodeValue(self,n,value):\n",
    "    self.H[n]=value"
   ]
  },
  {
   "cell_type": "code",
   "execution_count": 41,
   "id": "e6dd06b6-2efa-4a1b-9a62-699b26edf91a",
   "metadata": {},
   "outputs": [],
   "source": [
    "def printSolution(self):\n",
    "        print(\"FOR GRAPH SOLUTION, TRAVERSE THE GRAPH FROM THE START NODE:\",self.start)\n",
    "        print(\"------------------------------------------------------------\")\n",
    "        print(self.solutionGraph)\n",
    "        print(\"------------------------------------------------------------\")\n"
   ]
  },
  {
   "cell_type": "code",
   "execution_count": 42,
   "id": "9b1c99e3",
   "metadata": {},
   "outputs": [],
   "source": [
    "def ComputeMinimumCostChildNode(self,v):\n",
    "    minimumcost=0\n",
    "    CosttochildNodeListDic={}\n",
    "    CosttochildNodeListDic[minimumcost]=[]\n",
    "    \n",
    "    Flag=True\n",
    "    for Nodeinfotuplelist in getneighbors(v):\n",
    "        cost=0\n",
    "        Nodelist=[]\n",
    "        for c,weight in Nodeinfotuplelist:\n",
    "            c=cost + self.getHeuristicNodeValue(c) +weight\n",
    "            Nodelist.append(c)\n",
    "        \n",
    "        if Flag==True:\n",
    "            minimumcost=cost\n",
    "            CosttochildNodeListDic[minimumcost]=nodelist\n",
    "        \n",
    "            Flag=False\n",
    "        else:\n",
    "            if minimumcost > cost:    \n",
    "                minimumcost=cost\n",
    "                CosttochildNodeListDic[minimumcost]=nodelist\n",
    "            \n",
    "    return CosttochildNodeListDic[minimum],minimumcost\n",
    "            \n",
    "    def AOstarAlgo(self, v, backTracking):    \n",
    "        print(\"HEURISTIC VALUES  :\", self.H)\n",
    "        print(\"SOLUTION GRAPH    :\", self.solutionGraph)\n",
    "        print(\"PROCESSING NODE   :\", v)\n",
    "        print(\"-----------------------------------------------------------------------------------------\")\n",
    "\n",
    "    if self.getstatus(v) > 0:\n",
    "        minimumcost,childNodeList=ComputeMinimumCostChildNode(v)\n",
    "        self.setHeuristicNodeValue(v,minimumcost)\n",
    "        self.setstatus(v,len(childNodeList))\n",
    "        solved=True\n",
    "        for childNode in childNodeList:\n",
    "            self.parent[childNode]=v\n",
    "            if self.getstatus(childNode)!=1:\n",
    "                solved=solved & False\n",
    "            if solved==True:            \n",
    "                self.setStatus(v,-1)\n",
    "                self.solutionGraph[v]=childNodeList\n",
    "            # check the current node is the start node for backtracking the current node value    \n",
    "            if v!=self.start:  \n",
    "                # backtracking the current node value with backtracking status set to true\n",
    "                self.aoStar(self.parent[v], True)  \n",
    "            if backTracking==False:     # check the current call is not for backtracking\n",
    "                for childNode in childNodeList: # for each Minimum Cost child node\n",
    "                    self.setStatus(childNode,0) # set the status of child node to 0(needs exploration)\n",
    "                    # Minimum Cost child node is further explored with backtracking status as false\n",
    "                    self.aoStar(childNode, False)"
   ]
  },
  {
   "cell_type": "code",
   "execution_count": null,
   "id": "6f71b298",
   "metadata": {},
   "outputs": [],
   "source": []
  },
  {
   "cell_type": "code",
   "execution_count": null,
   "id": "8f0984e5",
   "metadata": {},
   "outputs": [],
   "source": []
  },
  {
   "cell_type": "code",
   "execution_count": 43,
   "id": "ffb896ac",
   "metadata": {},
   "outputs": [],
   "source": [
    "h1 = {'A': 9, 'B': 3, 'C': 4, 'D': 5, 'E': 5, 'F': 7, 'G': 4, 'H': 4}\n",
    "graph1 = {\n",
    "    'A': [[('B', 1), ('C', 1)], [('D', 1)]],\n",
    "    'B': [[('E', 1)], [('F', 1)]],\n",
    "    'D': [[('G', 1), ('H', 1)]]\n",
    "     \n",
    "}\n"
   ]
  },
  {
   "cell_type": "code",
   "execution_count": 45,
   "id": "a93e1693",
   "metadata": {},
   "outputs": [
    {
     "ename": "NameError",
     "evalue": "name 'graph' is not defined",
     "output_type": "error",
     "traceback": [
      "\u001b[1;31m---------------------------------------------------------------------------\u001b[0m",
      "\u001b[1;31mNameError\u001b[0m                                 Traceback (most recent call last)",
      "Cell \u001b[1;32mIn[45], line 1\u001b[0m\n\u001b[1;32m----> 1\u001b[0m G1\u001b[38;5;241m=\u001b[39m Graph(graph, h1, \u001b[38;5;124m'\u001b[39m\u001b[38;5;124mA\u001b[39m\u001b[38;5;124m'\u001b[39m)\n\u001b[0;32m      2\u001b[0m G1\u001b[38;5;241m.\u001b[39mapplyaostar()\n\u001b[0;32m      3\u001b[0m G1\u001b[38;5;241m.\u001b[39mprintSolution()\n",
      "\u001b[1;31mNameError\u001b[0m: name 'graph' is not defined"
     ]
    }
   ],
   "source": [
    "G1= Graph(graph, h1, 'A')\n",
    "G1.applyaostar()\n",
    "G1.printSolution()"
   ]
  },
  {
   "cell_type": "code",
   "execution_count": null,
   "id": "a096476f",
   "metadata": {},
   "outputs": [],
   "source": []
  }
 ],
 "metadata": {
  "kernelspec": {
   "display_name": "Python 3 (ipykernel)",
   "language": "python",
   "name": "python3"
  },
  "language_info": {
   "codemirror_mode": {
    "name": "ipython",
    "version": 3
   },
   "file_extension": ".py",
   "mimetype": "text/x-python",
   "name": "python",
   "nbconvert_exporter": "python",
   "pygments_lexer": "ipython3",
   "version": "3.11.5"
  }
 },
 "nbformat": 4,
 "nbformat_minor": 5
}
