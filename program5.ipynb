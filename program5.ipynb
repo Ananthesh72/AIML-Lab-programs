{
 "cells": [
  {
   "cell_type": "code",
   "execution_count": 38,
   "id": "517b9733",
   "metadata": {},
   "outputs": [],
   "source": [
    "import numpy as np"
   ]
  },
  {
   "cell_type": "code",
   "execution_count": 39,
   "id": "76364365",
   "metadata": {},
   "outputs": [],
   "source": [
    "x=np.array(([2,9],[1,5],[3,6]),dtype=float)\n",
    "y=np.array(([92],[86],[89]),dtype=float)\n",
    "x=x/np.amax(x,axis=0)\n",
    "y=y/100"
   ]
  },
  {
   "cell_type": "code",
   "execution_count": 44,
   "id": "f3e98430",
   "metadata": {},
   "outputs": [],
   "source": [
    "def sigmoid(x):\n",
    "    return 1/1+(np.exp(-x))"
   ]
  },
  {
   "cell_type": "code",
   "execution_count": 45,
   "id": "68e18d6b",
   "metadata": {},
   "outputs": [],
   "source": [
    "def derivaties_sigmoid(x):\n",
    "    return x*(1-x)"
   ]
  },
  {
   "cell_type": "code",
   "execution_count": 46,
   "id": "add9aa16",
   "metadata": {},
   "outputs": [],
   "source": [
    "epoch=5000\n",
    "lr=0.1\n",
    "inputlayer_neuron=2\n",
    "hiddenlayer_neuron=3\n",
    "outputlayer_neuron=1\n",
    "wh=np.random.uniform(size=(inputlayer_neuron,hiddenlayer_neuron))\n",
    "bh=np.random.uniform(size=(1,hiddenlayer_neuron))\n",
    "wout=np.random.uniform(size=(hiddenlayer_neuron,outputlayer_neuron))\n",
    "bout=np.random.uniform(size=(1,ouputlayer_neuron))"
   ]
  },
  {
   "cell_type": "code",
   "execution_count": 49,
   "id": "39a2c999",
   "metadata": {},
   "outputs": [],
   "source": [
    "for i in range(epoch):\n",
    "    h_input=np.dot(x,wh)+bh\n",
    "    h_act=sigmoid(h_input)\n",
    "    o_input=np.dot(h_act,wout)\n",
    "    output=sigmoid(o_input)\n",
    "    \n",
    "    outputgrad=derivaties_sigmoid(output)\n",
    "    EO=y-output\n",
    "    d_output=EO*outputgrad\n",
    "    \n",
    "    hiddengrad=derivaties_sigmoid(h_act)\n",
    "    EH=outputgrad.dot(wout.T)\n",
    "    d_hidden=EH*hiddengrad\n",
    "    \n",
    "    wout += h_act.T.dot(d_output)*lr\n",
    "    wh += x.T.dot(d_hidden)*lr"
   ]
  },
  {
   "cell_type": "code",
   "execution_count": 50,
   "id": "b19983fa",
   "metadata": {},
   "outputs": [
    {
     "name": "stdout",
     "output_type": "stream",
     "text": [
      "Input:\n",
      " [[0.66666667 1.        ]\n",
      " [0.33333333 0.55555556]\n",
      " [1.         0.66666667]]\n",
      "Actaual ouput:[[0.92]\n",
      " [0.86]\n",
      " [0.89]]\n",
      "Predicted output:[[1.00022019]\n",
      " [1.00012469]\n",
      " [1.00021619]]\n"
     ]
    }
   ],
   "source": [
    "print(\"Input:\\n \"+str(x))\n",
    "print(\"Actaual ouput:\"+str(y))\n",
    "print(\"Predicted output:\"+str(output))"
   ]
  },
  {
   "cell_type": "code",
   "execution_count": null,
   "id": "571198fd",
   "metadata": {},
   "outputs": [],
   "source": []
  }
 ],
 "metadata": {
  "kernelspec": {
   "display_name": "Python 3 (ipykernel)",
   "language": "python",
   "name": "python3"
  },
  "language_info": {
   "codemirror_mode": {
    "name": "ipython",
    "version": 3
   },
   "file_extension": ".py",
   "mimetype": "text/x-python",
   "name": "python",
   "nbconvert_exporter": "python",
   "pygments_lexer": "ipython3",
   "version": "3.11.5"
  }
 },
 "nbformat": 4,
 "nbformat_minor": 5
}
