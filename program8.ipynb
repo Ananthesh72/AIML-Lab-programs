{
 "cells": [
  {
   "cell_type": "code",
   "execution_count": 2,
   "id": "3986f60b",
   "metadata": {},
   "outputs": [],
   "source": [
    "from sklearn.model_selection import train_test_split\n",
    "from sklearn import datasets\n",
    "from sklearn.neighbors import KNeighborsClassifier"
   ]
  },
  {
   "cell_type": "code",
   "execution_count": 3,
   "id": "0266380a",
   "metadata": {},
   "outputs": [],
   "source": [
    "iris=datasets.load_iris()"
   ]
  },
  {
   "cell_type": "code",
   "execution_count": 5,
   "id": "5e3fc031",
   "metadata": {},
   "outputs": [],
   "source": [
    "x_train,x_test,y_train,y_test=train_test_split(iris.data,iris.target,test_size=0.1)"
   ]
  },
  {
   "cell_type": "code",
   "execution_count": 7,
   "id": "db213a3a",
   "metadata": {},
   "outputs": [
    {
     "name": "stdout",
     "output_type": "stream",
     "text": [
      "size of traininfg data and its label (135, 4) (135,)\n",
      "size of testing data and its label (15, 4) (15,)\n"
     ]
    }
   ],
   "source": [
    "print(\"size of traininfg data and its label\",x_train.shape,y_train.shape)\n",
    "print(\"size of testing data and its label\",x_test.shape,y_test.shape)"
   ]
  },
  {
   "cell_type": "code",
   "execution_count": 8,
   "id": "bb295dfd",
   "metadata": {},
   "outputs": [
    {
     "name": "stdout",
     "output_type": "stream",
     "text": [
      "label 0 - setosa\n",
      "label 1 - versicolor\n",
      "label 2 - virginica\n"
     ]
    }
   ],
   "source": [
    "for i in range (len(iris.target_names)):\n",
    "    print(\"label\",i,\"-\",str(iris.target_names[i]))"
   ]
  },
  {
   "cell_type": "code",
   "execution_count": 10,
   "id": "c289a3e9",
   "metadata": {},
   "outputs": [],
   "source": [
    "classifier= KNeighborsClassifier(n_neighbors=1)\n",
    "classifier.fit(x_train,y_train)\n",
    "y_pred=classifier.predict(x_test)"
   ]
  },
  {
   "cell_type": "code",
   "execution_count": 12,
   "id": "2bdc43fa",
   "metadata": {},
   "outputs": [
    {
     "name": "stdout",
     "output_type": "stream",
     "text": [
      "results of classification using k-nn with k=1\n",
      "sample: [5.4 3.7 1.5 0.2] Actual label 0 predicted label: 0\n",
      "classification accuracy: 1.0\n",
      "sample: [4.5 2.3 1.3 0.3] Actual label 0 predicted label: 0\n",
      "classification accuracy: 1.0\n",
      "sample: [5.6 2.8 4.9 2. ] Actual label 2 predicted label: 2\n",
      "classification accuracy: 1.0\n",
      "sample: [6.3 2.3 4.4 1.3] Actual label 1 predicted label: 1\n",
      "classification accuracy: 1.0\n",
      "sample: [5.5 3.5 1.3 0.2] Actual label 0 predicted label: 0\n",
      "classification accuracy: 1.0\n",
      "sample: [6.7 3.1 4.4 1.4] Actual label 1 predicted label: 1\n",
      "classification accuracy: 1.0\n",
      "sample: [6.1 2.8 4.7 1.2] Actual label 1 predicted label: 1\n",
      "classification accuracy: 1.0\n",
      "sample: [4.6 3.2 1.4 0.2] Actual label 0 predicted label: 0\n",
      "classification accuracy: 1.0\n",
      "sample: [6.6 3.  4.4 1.4] Actual label 1 predicted label: 1\n",
      "classification accuracy: 1.0\n",
      "sample: [6.7 3.1 5.6 2.4] Actual label 2 predicted label: 2\n",
      "classification accuracy: 1.0\n",
      "sample: [6.4 2.9 4.3 1.3] Actual label 1 predicted label: 1\n",
      "classification accuracy: 1.0\n",
      "sample: [4.9 2.4 3.3 1. ] Actual label 1 predicted label: 1\n",
      "classification accuracy: 1.0\n",
      "sample: [5.5 2.5 4.  1.3] Actual label 1 predicted label: 1\n",
      "classification accuracy: 1.0\n",
      "sample: [5.7 4.4 1.5 0.4] Actual label 0 predicted label: 0\n",
      "classification accuracy: 1.0\n",
      "sample: [5.1 3.8 1.9 0.4] Actual label 0 predicted label: 0\n",
      "classification accuracy: 1.0\n"
     ]
    }
   ],
   "source": [
    "print(\"results of classification using k-nn with k=1\")\n",
    "for r in range (0,len(x_test)):\n",
    "    print(\"sample:\",str(x_test[r]),\"Actual label\",str(y_test[r]),\"predicted label:\",str(y_pred[r]))\n",
    "    print(\"classification accuracy:\",classifier.score(x_test,y_test))"
   ]
  },
  {
   "cell_type": "code",
   "execution_count": null,
   "id": "ce890f5b",
   "metadata": {},
   "outputs": [],
   "source": []
  }
 ],
 "metadata": {
  "kernelspec": {
   "display_name": "Python 3 (ipykernel)",
   "language": "python",
   "name": "python3"
  },
  "language_info": {
   "codemirror_mode": {
    "name": "ipython",
    "version": 3
   },
   "file_extension": ".py",
   "mimetype": "text/x-python",
   "name": "python",
   "nbconvert_exporter": "python",
   "pygments_lexer": "ipython3",
   "version": "3.11.5"
  }
 },
 "nbformat": 4,
 "nbformat_minor": 5
}
