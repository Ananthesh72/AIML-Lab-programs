{
 "cells": [
  {
   "cell_type": "code",
   "execution_count": 23,
   "id": "f8d8c14f-337c-43dd-acb4-6398a762ec31",
   "metadata": {},
   "outputs": [],
   "source": [
    "def AstarAlgo(start_node,stop_node):\n",
    "    openset=set(start_node)\n",
    "    closeset=set()\n",
    "    g={}\n",
    "    parents={}\n",
    "    g[start_node]=0\n",
    "    parents[start_node]=start_node\n",
    "        \n",
    "        \n",
    "    while len(openset) > 0:\n",
    "        n=None\n",
    "        for v in openset:\n",
    "            if n==None or g[v] + Heuristic(v) < g[n] + Heuristic(n):\n",
    "                n=v\n",
    "                \n",
    "                \n",
    "            if n==stop_node or Graph_nodes[n]==None:\n",
    "                pass\n",
    "            else:\n",
    "                for(m,weight) in get_neighbors(n):\n",
    "                    if m not in openset and m not in closeset:\n",
    "                        openset.add(m)\n",
    "                        parents[m]=n\n",
    "                        g[m]= g[n]+weight\n",
    "                    else:\n",
    "                        if g[m] > g[n] + weight:\n",
    "                            g[m]= g[n] + weight\n",
    "                            parents[m]=n\n",
    "                            \n",
    "                            if m in closeset:\n",
    "                                closeset.remove()\n",
    "                                openset.add(m)\n",
    "            \n",
    "            if n==None:\n",
    "                print(\"path does not exist\")\n",
    "                return None\n",
    "            \n",
    "            if n == stop_node:\n",
    "                path=[] \n",
    "                while parents[n]!=n:\n",
    "                    path.append(n)\n",
    "                    n=parents[n]\n",
    "                path.append(start_node)\n",
    "                path.reverse\n",
    "                return path\n",
    "            \n",
    "            openset.remove(n)\n",
    "            closeset.add(n)\n",
    "    \n",
    "    if n==None:\n",
    "        print('Path does not exist!')\n",
    "        return None\n",
    "    \n",
    "    \n",
    "    if n==stop_node:\n",
    "        path=[]\n",
    "        while parents[n] !=n :\n",
    "            path.append(n)\n",
    "            n=parents[n]\n",
    "        \n",
    "        path.append(start_node)\n",
    "        path.reverse()\n",
    "        print('Path found:{}'.format(path))\n",
    "        return path\n",
    "    \n",
    "        openset.remove(n)\n",
    "        closeset.add(n)\n",
    "    \n",
    "    print(\"path doessnot exists\")\n",
    "    return None"
   ]
  },
  {
   "cell_type": "code",
   "execution_count": 9,
   "id": "dc81af90-32a7-4d4e-ae7c-1cf5c1ed0bbe",
   "metadata": {},
   "outputs": [],
   "source": [
    "def get_neighbors(v):\n",
    "    if v in Graph_node:\n",
    "        return Graph_node[v]\n",
    "    else:\n",
    "        return None"
   ]
  },
  {
   "cell_type": "code",
   "execution_count": 10,
   "id": "d83aadb2-5426-480b-92c9-d797e4a8432a",
   "metadata": {},
   "outputs": [],
   "source": [
    "def Heuristic(n):\n",
    "    Heu_sitic={\n",
    "        'A':10,\n",
    "        'B':8,\n",
    "        'C':5,\n",
    "        'D':7,\n",
    "        'E':3,\n",
    "          'F':6,\n",
    "          'G':5,\n",
    "          'H':3,\n",
    "          'I':1,\n",
    "          'J':0\n",
    "        \n",
    "    }\n",
    "    return Heu_sitic[n]"
   ]
  },
  {
   "cell_type": "code",
   "execution_count": 11,
   "id": "a87a59b2-baa1-4279-8725-b06a59f1a6af",
   "metadata": {},
   "outputs": [],
   "source": [
    "Graph_nodes = {\n",
    "    'A':[('B',6),('F',3)],\n",
    "    'B':[('C',3),('D',2)],\n",
    "    'C':[('D',1),('E',5)],\n",
    "    'D':[('C',1),('E',8)],\n",
    "    'E':[('I',5),('J',5)],\n",
    "    'F':[('G',1),('H',7)],\n",
    "    'G':[('I',3)],\n",
    "    'H':[('I',2)],\n",
    "    'I':[('E',5),('J',3)]\n",
    "}"
   ]
  },
  {
   "cell_type": "code",
   "execution_count": 24,
   "id": "50ba993b-e009-4821-ae03-25f7cfcefa48",
   "metadata": {},
   "outputs": [
    {
     "ename": "RuntimeError",
     "evalue": "Set changed size during iteration",
     "output_type": "error",
     "traceback": [
      "\u001b[1;31m---------------------------------------------------------------------------\u001b[0m",
      "\u001b[1;31mRuntimeError\u001b[0m                              Traceback (most recent call last)",
      "Cell \u001b[1;32mIn[24], line 1\u001b[0m\n\u001b[1;32m----> 1\u001b[0m AstarAlgo(\u001b[38;5;124m'\u001b[39m\u001b[38;5;124mA\u001b[39m\u001b[38;5;124m'\u001b[39m, \u001b[38;5;124m'\u001b[39m\u001b[38;5;124mG\u001b[39m\u001b[38;5;124m'\u001b[39m)\n",
      "Cell \u001b[1;32mIn[23], line 12\u001b[0m, in \u001b[0;36mAstarAlgo\u001b[1;34m(start_node, stop_node)\u001b[0m\n\u001b[0;32m     10\u001b[0m \u001b[38;5;28;01mwhile\u001b[39;00m \u001b[38;5;28mlen\u001b[39m(openset) \u001b[38;5;241m>\u001b[39m \u001b[38;5;241m0\u001b[39m:\n\u001b[0;32m     11\u001b[0m     n\u001b[38;5;241m=\u001b[39m\u001b[38;5;28;01mNone\u001b[39;00m\n\u001b[1;32m---> 12\u001b[0m     \u001b[38;5;28;01mfor\u001b[39;00m v \u001b[38;5;129;01min\u001b[39;00m openset:\n\u001b[0;32m     13\u001b[0m         \u001b[38;5;28;01mif\u001b[39;00m n\u001b[38;5;241m==\u001b[39m\u001b[38;5;28;01mNone\u001b[39;00m \u001b[38;5;129;01mor\u001b[39;00m g[v] \u001b[38;5;241m+\u001b[39m Heuristic(v) \u001b[38;5;241m<\u001b[39m g[n] \u001b[38;5;241m+\u001b[39m Heuristic(n):\n\u001b[0;32m     14\u001b[0m             n\u001b[38;5;241m=\u001b[39mv\n",
      "\u001b[1;31mRuntimeError\u001b[0m: Set changed size during iteration"
     ]
    }
   ],
   "source": [
    "AstarAlgo('A', 'G')"
   ]
  },
  {
   "cell_type": "code",
   "execution_count": null,
   "id": "21dc8dc0-38b3-47c8-9bdb-5655566b0a5c",
   "metadata": {},
   "outputs": [],
   "source": []
  }
 ],
 "metadata": {
  "kernelspec": {
   "display_name": "Python 3 (ipykernel)",
   "language": "python",
   "name": "python3"
  },
  "language_info": {
   "codemirror_mode": {
    "name": "ipython",
    "version": 3
   },
   "file_extension": ".py",
   "mimetype": "text/x-python",
   "name": "python",
   "nbconvert_exporter": "python",
   "pygments_lexer": "ipython3",
   "version": "3.11.5"
  }
 },
 "nbformat": 4,
 "nbformat_minor": 5
}
