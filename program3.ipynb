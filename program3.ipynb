{
 "cells": [
  {
   "cell_type": "code",
   "execution_count": 9,
   "id": "55dd691d-110d-4cfe-b9c5-1f0c2719ee67",
   "metadata": {},
   "outputs": [],
   "source": [
    "import pandas as pd \n",
    "import numpy as np\n",
    "data=pd.read_csv('enjoysport.csv')"
   ]
  },
  {
   "cell_type": "code",
   "execution_count": 11,
   "id": "4ca7a945-a9c7-4586-bcaf-1f68c20aa03f",
   "metadata": {},
   "outputs": [
    {
     "data": {
      "text/plain": [
       "array([['Sunny', 'Warm', 'Normal', 'Strong', 'Warm', 'Same'],\n",
       "       ['Sunny', 'Warm', 'High', 'Strong', 'Warm', 'Same'],\n",
       "       ['Rainy', 'Cold', 'High', 'Strong', 'Warm', 'Change'],\n",
       "       ['Sunny', 'Warm', 'High', 'Strong', 'Cool', 'Change']],\n",
       "      dtype=object)"
      ]
     },
     "execution_count": 11,
     "metadata": {},
     "output_type": "execute_result"
    }
   ],
   "source": [
    "concepts=np.array(data)[:,:-1]\n",
    "concepts"
   ]
  },
  {
   "cell_type": "code",
   "execution_count": 14,
   "id": "20a935bc-840a-4059-87f4-e32c51f453d3",
   "metadata": {},
   "outputs": [
    {
     "data": {
      "text/plain": [
       "array(['Yes', 'Yes', 'No', 'Yes'], dtype=object)"
      ]
     },
     "execution_count": 14,
     "metadata": {},
     "output_type": "execute_result"
    }
   ],
   "source": [
    "target=np.array(data)[:,-1]\n",
    "target"
   ]
  },
  {
   "cell_type": "code",
   "execution_count": 30,
   "id": "e74ac0e6-1945-4367-a392-3c4db8b8c698",
   "metadata": {},
   "outputs": [],
   "source": [
    "def learn(concepts,target):\n",
    "    specific_h=concepts[0].copy()\n",
    "    print(\"initalization of specific and general hyphothisis\")\n",
    "    specific_h\n",
    "    general_h=[[\"?\" for i in range (len(specific_h))] for i in range(len(specific_h))]\n",
    "    general_h\n",
    "    \n",
    "    for i,h in enumerate(concepts):\n",
    "        if target[i]==\"yes\":\n",
    "            print(\"indtance is positive\")\n",
    "            for x in range(len(specific_h)):\n",
    "                if h[x]!= specific_h[x]:\n",
    "                    specific_h[x]='?'\n",
    "                    general_h[x][x]='?'\n",
    "        \n",
    "        if target[i]==\"no\":\n",
    "            print(\"Instance is negative\")\n",
    "            for x in range(len(specific_h)):\n",
    "                if h[x]!=specific_h[x]:\n",
    "                    general_h[x]=specific_h[x]\n",
    "                else:\n",
    "                    general_h[x][x]='?'\n",
    "        print(\"Interation [\"+ str(i+1)+\"]\")\n",
    "        print(\"specific :\" +str(specific_h))\n",
    "        print(\"general_h :\" +str(general_h))\n",
    "        \n",
    "    general_h=[general_h[i] for i,h in enumerate(general_h) if h!=[\"?\" for x in range(len(specific_h))]]\n",
    "    return specific_h,general_h\n",
    "    \n",
    "  "
   ]
  },
  {
   "cell_type": "code",
   "execution_count": 31,
   "id": "d285a149-6d95-480b-b354-6ba92a266db5",
   "metadata": {},
   "outputs": [
    {
     "name": "stdout",
     "output_type": "stream",
     "text": [
      "initalization of specific and general hyphothisis\n",
      "Interation [1]\n",
      "specific :['Sunny' 'Warm' 'Normal' 'Strong' 'Warm' 'Same']\n",
      "general_h :[['?', '?', '?', '?', '?', '?'], ['?', '?', '?', '?', '?', '?'], ['?', '?', '?', '?', '?', '?'], ['?', '?', '?', '?', '?', '?'], ['?', '?', '?', '?', '?', '?'], ['?', '?', '?', '?', '?', '?']]\n",
      "Interation [2]\n",
      "specific :['Sunny' 'Warm' 'Normal' 'Strong' 'Warm' 'Same']\n",
      "general_h :[['?', '?', '?', '?', '?', '?'], ['?', '?', '?', '?', '?', '?'], ['?', '?', '?', '?', '?', '?'], ['?', '?', '?', '?', '?', '?'], ['?', '?', '?', '?', '?', '?'], ['?', '?', '?', '?', '?', '?']]\n",
      "Interation [3]\n",
      "specific :['Sunny' 'Warm' 'Normal' 'Strong' 'Warm' 'Same']\n",
      "general_h :[['?', '?', '?', '?', '?', '?'], ['?', '?', '?', '?', '?', '?'], ['?', '?', '?', '?', '?', '?'], ['?', '?', '?', '?', '?', '?'], ['?', '?', '?', '?', '?', '?'], ['?', '?', '?', '?', '?', '?']]\n",
      "Interation [4]\n",
      "specific :['Sunny' 'Warm' 'Normal' 'Strong' 'Warm' 'Same']\n",
      "general_h :[['?', '?', '?', '?', '?', '?'], ['?', '?', '?', '?', '?', '?'], ['?', '?', '?', '?', '?', '?'], ['?', '?', '?', '?', '?', '?'], ['?', '?', '?', '?', '?', '?'], ['?', '?', '?', '?', '?', '?']]\n"
     ]
    }
   ],
   "source": [
    "  specific_h,general_h=learn(concepts,target)"
   ]
  },
  {
   "cell_type": "code",
   "execution_count": 32,
   "id": "e0033f22",
   "metadata": {},
   "outputs": [
    {
     "name": "stdout",
     "output_type": "stream",
     "text": [
      "Final hypothesis:\n",
      "specific: ['Sunny' 'Warm' 'Normal' 'Strong' 'Warm' 'Same']\n",
      "general :[]\n"
     ]
    }
   ],
   "source": [
    "print(\"Final hypothesis:\")\n",
    "print(\"specific: \"+str(specific_h))\n",
    "print(\"general :\"+str(general_h))"
   ]
  },
  {
   "cell_type": "code",
   "execution_count": null,
   "id": "25a50f4f",
   "metadata": {},
   "outputs": [],
   "source": []
  }
 ],
 "metadata": {
  "kernelspec": {
   "display_name": "Python 3 (ipykernel)",
   "language": "python",
   "name": "python3"
  },
  "language_info": {
   "codemirror_mode": {
    "name": "ipython",
    "version": 3
   },
   "file_extension": ".py",
   "mimetype": "text/x-python",
   "name": "python",
   "nbconvert_exporter": "python",
   "pygments_lexer": "ipython3",
   "version": "3.11.5"
  }
 },
 "nbformat": 4,
 "nbformat_minor": 5
}
